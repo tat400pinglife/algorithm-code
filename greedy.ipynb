{
 "cells": [
  {
   "cell_type": "code",
   "execution_count": 62,
   "metadata": {},
   "outputs": [
    {
     "name": "stdout",
     "output_type": "stream",
     "text": [
      "[0, 1, 0, 0, 0, 2]\n",
      "\n",
      "Time taken 0.0  ms\n"
     ]
    }
   ],
   "source": [
    "# Greedy implementation of coin change\n",
    "\n",
    "import time\n",
    "def coin_change(money):\n",
    "    # set up all available coin change\n",
    "    # technically there are dollar coins and 50 cent coins\n",
    "    # but who uses them :/\n",
    "    available_money = money\n",
    "    denominations = [100,50,25,10,5,1]\n",
    "    counter = [0] * len(denominations)\n",
    "    try :\n",
    "        if (available_money <= 0) :\n",
    "           return (counter)\n",
    "    except TypeError:\n",
    "        return (\"Enter a number value\")\n",
    "\n",
    "    for value in denominations:\n",
    "        if available_money >= value:\n",
    "            num = available_money//value\n",
    "            available_money -= value * num\n",
    "            counter[denominations.index(value)] += num\n",
    "        \n",
    "    return (counter)\n",
    "    \n",
    "start = time.time()\n",
    "print(coin_change(52))\n",
    "end = time.time()\n",
    "print ( \"\\nTime taken\", (end-start) * 1000, \" ms\")"
   ]
  },
  {
   "cell_type": "code",
   "execution_count": null,
   "metadata": {},
   "outputs": [],
   "source": [
    "# runtime analysis\n",
    "# with only one coin value (c) and minimum of one denomination used (n)\n",
    "# the worst case is O(c*n)"
   ]
  },
  {
   "cell_type": "code",
   "execution_count": 63,
   "metadata": {},
   "outputs": [],
   "source": [
    "import unittest\n",
    "\n",
    "class TestCoinChange(unittest.TestCase):\n",
    "    \n",
    "    def test_coin_change(self):\n",
    "        self.assertEqual(coin_change(63), [0,1,0,1,0,3])\n",
    "        self.assertEqual(coin_change(11), [0,0,0,1,0,1])\n",
    "        self.assertEqual(coin_change(27), [0,0,1,0,0,2])\n",
    "        self.assertEqual(coin_change(0), [0,0,0,0,0,0])\n",
    "        \n",
    "    def test_coin_change_error(self):\n",
    "        self.assertEqual(coin_change(\"test\"), \"Enter a number value\")\n",
    "    "
   ]
  },
  {
   "cell_type": "code",
   "execution_count": 64,
   "metadata": {},
   "outputs": [
    {
     "name": "stderr",
     "output_type": "stream",
     "text": [
      ".....\n",
      "----------------------------------------------------------------------\n",
      "Ran 5 tests in 0.003s\n",
      "\n",
      "OK\n"
     ]
    },
    {
     "data": {
      "text/plain": [
       "<unittest.main.TestProgram at 0x20cfdc7d4f0>"
      ]
     },
     "execution_count": 64,
     "metadata": {},
     "output_type": "execute_result"
    }
   ],
   "source": [
    "unittest.main(argv=['first-arg-is-ignored'], exit=False)"
   ]
  },
  {
   "cell_type": "code",
   "execution_count": 65,
   "metadata": {},
   "outputs": [
    {
     "name": "stdout",
     "output_type": "stream",
     "text": [
      "[(1, 2), (2, 3), (3, 4), (5, 7), (8, 9)]\n",
      "\n",
      "Time taken 0.0  ms\n"
     ]
    }
   ],
   "source": [
    "# Greedy implementation of scheduler\n",
    "\n",
    "def make_schedule(schedule) :\n",
    "    # sort schedule by ascending end times\n",
    "    schedule.sort(key = lambda x:x[1])\n",
    "    end_time = 0\n",
    "    final_sched = []\n",
    "    for val in schedule:\n",
    "        if (end_time <= val[0]) :\n",
    "            final_sched.append(val)\n",
    "            end_time = val[1]\n",
    "            \n",
    "    return (final_sched)\n",
    "\n",
    "\n",
    "schedule = [(1, 2),(3, 4), (0, 6), (5, 7), (8, 9), (2, 3)]\n",
    "start = time.time()\n",
    "print(make_schedule(schedule))\n",
    "end = time.time()\n",
    "print ( \"\\nTime taken\", (end-start) * 1000, \" ms\")"
   ]
  },
  {
   "cell_type": "code",
   "execution_count": null,
   "metadata": {},
   "outputs": [],
   "source": [
    "# rutime complexity\n",
    "# with an singular loop in the function\n",
    "# the runtime can be computed to O(n) where n is the number of items in the schedule"
   ]
  },
  {
   "cell_type": "code",
   "execution_count": 66,
   "metadata": {},
   "outputs": [],
   "source": [
    "import unittest\n",
    "\n",
    "class TestJobScheduling(unittest.TestCase):\n",
    "    \n",
    "    def test_job_scheduling(self):\n",
    "        self.assertEqual(make_schedule([(1, 3), (2, 5), (0, 6), (5, 7), (8, 9), (5, 9)]), [(1, 3), (5, 7), (8, 9)])\n",
    "        self.assertEqual(make_schedule([(1, 2), (2, 3), (3, 4), (0, 6), (5, 7), (8, 9)]), [(1, 2), (2, 3), (3, 4), (5, 7), (8, 9)])\n",
    "        self.assertEqual(make_schedule([(0, 1), (3, 4), (1, 2), (2, 3)]), [(0, 1), (1, 2), (2, 3), (3, 4)])\n",
    "    \n",
    "    def test_job_scheduling_no_jobs(self):\n",
    "        self.assertEqual(make_schedule([]), [])\n",
    "    \n",
    "    def test_job_scheduling_single_job(self):\n",
    "        self.assertEqual(make_schedule([(0, 1)]), [(0, 1)])"
   ]
  },
  {
   "cell_type": "code",
   "execution_count": 67,
   "metadata": {},
   "outputs": [
    {
     "name": "stderr",
     "output_type": "stream",
     "text": [
      ".....\n",
      "----------------------------------------------------------------------\n",
      "Ran 5 tests in 0.003s\n",
      "\n",
      "OK\n"
     ]
    },
    {
     "data": {
      "text/plain": [
       "<unittest.main.TestProgram at 0x20cfdc83950>"
      ]
     },
     "execution_count": 67,
     "metadata": {},
     "output_type": "execute_result"
    }
   ],
   "source": [
    "unittest.main(argv=['first-arg-is-ignored'], exit=False)"
   ]
  }
 ],
 "metadata": {
  "kernelspec": {
   "display_name": "Python 3",
   "language": "python",
   "name": "python3"
  },
  "language_info": {
   "codemirror_mode": {
    "name": "ipython",
    "version": 3
   },
   "file_extension": ".py",
   "mimetype": "text/x-python",
   "name": "python",
   "nbconvert_exporter": "python",
   "pygments_lexer": "ipython3",
   "version": "3.12.1"
  }
 },
 "nbformat": 4,
 "nbformat_minor": 2
}
