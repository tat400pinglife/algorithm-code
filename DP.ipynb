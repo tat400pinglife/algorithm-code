{
 "cells": [
  {
   "cell_type": "code",
   "execution_count": 2,
   "metadata": {},
   "outputs": [
    {
     "name": "stdout",
     "output_type": "stream",
     "text": [
      "Maximum revenue: 22\n"
     ]
    }
   ],
   "source": [
    "# rod cut\n",
    "def rod_cutting(lengths, prices, n):\n",
    "    # Create a table to store the maximum revenue for rod lengths 0 to n\n",
    "    max_revenue = [0] * (n + 1)\n",
    "\n",
    "    # Iterate over each possible rod length\n",
    "    for i in range(1, n + 1):\n",
    "        # Initialize the maximum revenue for rod length i\n",
    "        max_val = float('-inf')\n",
    "        \n",
    "        # Try all possible cuts for rod length i\n",
    "        for j in range(i):\n",
    "            max_val = max(max_val, prices[j] + max_revenue[i - j - 1])\n",
    "        \n",
    "        # Store the maximum revenue for rod length i\n",
    "        max_revenue[i] = max_val\n",
    "\n",
    "    return max_revenue[n]\n",
    "\n",
    "# Example usage:\n",
    "lengths = [1, 2, 3, 4, 5, 6, 7, 8]\n",
    "prices = [1, 5, 8, 9, 10, 17, 17, 20]\n",
    "rod_length = 8\n",
    "\n",
    "max_revenue = rod_cutting(lengths, prices, rod_length)\n",
    "print(\"Maximum revenue:\", max_revenue)\n"
   ]
  },
  {
   "cell_type": "code",
   "execution_count": 3,
   "metadata": {},
   "outputs": [
    {
     "name": "stdout",
     "output_type": "stream",
     "text": [
      "Length of LCS: 4\n"
     ]
    }
   ],
   "source": [
    "def lcs(X, Y):\n",
    "    m = len(X)\n",
    "    n = len(Y)\n",
    "\n",
    "    # Create a table to store the lengths of LCS for subproblems\n",
    "    L = [[0] * (n + 1) for _ in range(m + 1)]\n",
    "\n",
    "    # Fill the table in a bottom-up manner and construct LCS\n",
    "    for i in range(m + 1):\n",
    "        for j in range(n + 1):\n",
    "            if i == 0 or j == 0:\n",
    "                L[i][j] = 0\n",
    "            elif X[i - 1] == Y[j - 1]:\n",
    "                L[i][j] = L[i - 1][j - 1] + 1\n",
    "            else:\n",
    "                L[i][j] = max(L[i - 1][j], L[i][j - 1])\n",
    "\n",
    "    # Traverse the table to construct LCS string\n",
    "    lcs_str = \"\"\n",
    "    i, j = m, n\n",
    "    while i > 0 and j > 0:\n",
    "        if X[i - 1] == Y[j - 1]:\n",
    "            lcs_str = X[i - 1] + lcs_str\n",
    "            i -= 1\n",
    "            j -= 1\n",
    "        elif L[i - 1][j] > L[i][j - 1]:\n",
    "            i -= 1\n",
    "        else:\n",
    "            j -= 1\n",
    "\n",
    "    return lcs_str, L[m][n]\n",
    "\n",
    "# Example usage:\n",
    "X = \"ABCBDAB\"\n",
    "Y = \"BDCAB\"\n",
    "lcs_str, lcs_len = lcs(X, Y)\n",
    "print(\"Length of LCS:\", lcs_len)\n",
    "print(\"LCS:\", lcs_str)\n"
   ]
  }
 ],
 "metadata": {
  "kernelspec": {
   "display_name": "Python 3",
   "language": "python",
   "name": "python3"
  },
  "language_info": {
   "codemirror_mode": {
    "name": "ipython",
    "version": 3
   },
   "file_extension": ".py",
   "mimetype": "text/x-python",
   "name": "python",
   "nbconvert_exporter": "python",
   "pygments_lexer": "ipython3",
   "version": "3.12.1"
  }
 },
 "nbformat": 4,
 "nbformat_minor": 2
}
