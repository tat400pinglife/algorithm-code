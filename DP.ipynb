{
 "cells": [
  {
   "cell_type": "code",
   "execution_count": 7,
   "metadata": {},
   "outputs": [
    {
     "name": "stdout",
     "output_type": "stream",
     "text": [
      "Maximum revenue: 23\n",
      "Lengths chosen: [1, 7]\n",
      "Time taken 0.0  ms\n"
     ]
    }
   ],
   "source": [
    "# rod cut given values of price per length\n",
    "import time\n",
    "\n",
    "def rod_cutting( prices, n):\n",
    "    \n",
    "    # create array of max_rev and cut lengths taken\n",
    "    max_revenue = [0] * (n + 1)\n",
    "    cuts = [0] * (n + 1)\n",
    "    \n",
    "    # init a max_val for comparison\n",
    "    max_val = float('-inf')\n",
    "    \n",
    "    for i in range(1, n + 1):\n",
    "        \n",
    "        for j in range(i):\n",
    "            # test if max_val is less then the all other iterations of cuts\n",
    "            # starting from price of rod length j + max_rev of (rod length current - j)\n",
    "            # store the length of the rod where it was cut for later \n",
    "            if max_val < prices[j] + max_revenue[i - j - 1]:\n",
    "                max_val = prices[j] + max_revenue[i - j - 1]\n",
    "                cuts[i] = j + 1\n",
    "                # after all iteration of cuts are finished cuts[i] will hold length where the rod is cut for length i\n",
    "        \n",
    "        # Store the maximum revenue for rod length i\n",
    "        max_revenue[i] = max_val\n",
    "\n",
    "\n",
    "    # init arr to store what lengths were used\n",
    "    cuts_taken = []\n",
    "    # work our way backwards since last value in cuts[] holds one of the lengths used\n",
    "    # so we take that value and then find a cut used for length (i-cuts[n])\n",
    "    while n > 0:\n",
    "        cuts_taken.append(cuts[n])\n",
    "        n -= cuts[n]\n",
    "    \n",
    "    return max_revenue[-1], cuts_taken\n",
    "\n",
    "\n",
    "prices = [1, 5, 8, 9, 10, 9, 22, 23]\n",
    "rod_length = 8\n",
    "\n",
    "start = time.time()\n",
    "max_revenue, chosen_cuts= rod_cutting( prices, rod_length)\n",
    "end = time.time()\n",
    "print(\"Maximum revenue:\", max_revenue)\n",
    "print(\"Lengths chosen:\", chosen_cuts)\n",
    "print(\"Time taken\", (end-start) * 1000, \" ms\")\n"
   ]
  },
  {
   "cell_type": "code",
   "execution_count": 13,
   "metadata": {},
   "outputs": [
    {
     "name": "stdout",
     "output_type": "stream",
     "text": [
      "Length of LCS: 7\n",
      "LCS: ABCBDAB\n",
      "Time taken 0.0  ms\n"
     ]
    }
   ],
   "source": [
    "# longest common subsequence\n",
    "\n",
    "def lcs(X, Y):\n",
    "    \n",
    "    m = len(X)\n",
    "    n = len(Y)\n",
    "\n",
    "    # Create a 2d array to store the lengths of LCS for subproblems\n",
    "    L = [[0] * (n + 1) for _ in range(m + 1)]\n",
    "\n",
    "    # Fill the table in a bottom-up manner and construct LCS\n",
    "    for i in range(m + 1):\n",
    "        for j in range(n + 1):\n",
    "            # edge case no length\n",
    "            if i == 0 or j == 0:\n",
    "                L[i][j] = 0\n",
    "            \n",
    "            # if a common character is found then plus 1\n",
    "            elif X[i - 1] == Y[j - 1]:\n",
    "                L[i][j] = L[i - 1][j - 1] + 1\n",
    "            else:\n",
    "                # if no common character then take the max of left or top\n",
    "                L[i][j] = max(L[i - 1][j], L[i][j - 1])\n",
    "                \n",
    "\n",
    "    # work our way backwards to get string\n",
    "    str = \"\"\n",
    "    i, j = m, n\n",
    "    while i > 0 and j > 0:\n",
    "        # go through table backwards while adding letters if they are equal\n",
    "        if X[i - 1] == Y[j - 1]:\n",
    "            str = X[i - 1] + str\n",
    "            i -= 1\n",
    "            j -= 1\n",
    "        elif L[i - 1][j] > L[i][j - 1]:\n",
    "            i -= 1\n",
    "        else:\n",
    "            j -= 1\n",
    "\n",
    "    return str, L[m][n]\n",
    "\n",
    "\n",
    "X = \"ABCBD123gAB\"\n",
    "Y = \"BDCABCBDABA\"\n",
    "start = time.time()\n",
    "lcs_str, lcs_len = lcs(X, Y)\n",
    "end = time.time()\n",
    "\n",
    "print(\"Length of LCS:\", lcs_len)\n",
    "print(\"LCS:\", lcs_str)\n",
    "print(\"Time taken\", (end-start) * 1000, \" ms\")\n"
   ]
  }
 ],
 "metadata": {
  "kernelspec": {
   "display_name": "Python 3",
   "language": "python",
   "name": "python3"
  },
  "language_info": {
   "codemirror_mode": {
    "name": "ipython",
    "version": 3
   },
   "file_extension": ".py",
   "mimetype": "text/x-python",
   "name": "python",
   "nbconvert_exporter": "python",
   "pygments_lexer": "ipython3",
   "version": "3.12.1"
  }
 },
 "nbformat": 4,
 "nbformat_minor": 2
}
