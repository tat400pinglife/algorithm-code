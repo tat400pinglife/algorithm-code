{
 "cells": [
  {
   "cell_type": "code",
   "execution_count": 61,
   "metadata": {},
   "outputs": [],
   "source": [
    "# BFS implementation of graph\n",
    "# first make the graph using a dict for each node with items containing adjacenct nodes\n",
    "class Graph:\n",
    "    def __init__(self):\n",
    "        self.adjacency_list = {}\n",
    "\n",
    "    def add_edge(self, node1, node2):\n",
    "        # if new node add to list\n",
    "        if node1 not in self.adjacency_list:\n",
    "            self.adjacency_list[node1] = []\n",
    "        \n",
    "        if node2 not in self.adjacency_list:\n",
    "            self.adjacency_list[node2] = []\n",
    "            \n",
    "        # this is an implementation of undirected graph so we just add\n",
    "        # each node to its respective adjacenct every time\n",
    "        self.adjacency_list[node1].append(node2)\n",
    "        self.adjacency_list[node2].append(node1)\n",
    "\n",
    "    def __str__(self):\n",
    "        return str(self.adjacency_list)\n",
    "\n",
    "def bfs(graph, start_node):\n",
    "    # create a log for nodes already visited\n",
    "    visited = set()\n",
    "    queue = [start_node]\n",
    "    traversal_order = []\n",
    "\n",
    "    while queue:\n",
    "        # take next node\n",
    "        node = queue.pop(0)\n",
    "        if node not in visited: # if not visited mark it as visited and add adjacent nodes to queue\n",
    "            visited.add(node)\n",
    "            traversal_order.append(node)\n",
    "            queue.extend([neighbor for neighbor in graph.adjacency_list[node] if neighbor not in visited])\n",
    "\n",
    "    return traversal_order\n",
    "\n",
    "def dfs(graph, start_node):\n",
    "    # same start as bfs\n",
    "    visited = set()\n",
    "    traversal_order = []\n",
    "\n",
    "    def dfs(node):\n",
    "        if node not in visited:\n",
    "            visited.add(node)\n",
    "            traversal_order.append(node)\n",
    "            # take adjacent node and perform dfs on that node\n",
    "            # this will keep going until there are no more adjacent\n",
    "            # nodes that are not visited\n",
    "            for neighbor in graph.adjacency_list[node]:\n",
    "                dfs(neighbor)\n",
    "\n",
    "    dfs(start_node)\n",
    "    return traversal_order\n"
   ]
  },
  {
   "cell_type": "code",
   "execution_count": 62,
   "metadata": {},
   "outputs": [
    {
     "name": "stdout",
     "output_type": "stream",
     "text": [
      "Graph Adjacency List:\n",
      "{1: [2, 3], 2: [1, 4, 5], 3: [1, 6, 7], 4: [2], 5: [2], 6: [3], 7: [3]}\n",
      "\n",
      "BFS Traversal from node 6 :\n",
      "[6, 3, 1, 7, 2, 4, 5]\n",
      "Time taken 0.0  ms\n",
      "\n",
      "DFS Recursive Traversal from node 6 :\n",
      "[6, 3, 1, 2, 4, 5, 7]\n",
      "Time taken 0.0  ms\n"
     ]
    }
   ],
   "source": [
    "import time\n",
    "\n",
    "graph = Graph()\n",
    "edges = [\n",
    "    (1, 2), (1, 3), (2, 4), (2, 5), (3, 6), (3, 7)\n",
    "]\n",
    "for node1, node2 in edges:\n",
    "    graph.add_edge(node1, node2)\n",
    "\n",
    "# Print the adjacency list of the graph\n",
    "print(\"Graph Adjacency List:\")\n",
    "print(graph)\n",
    "\n",
    "# Run BFS and print the result\n",
    "start_node = 6\n",
    "\n",
    "print(\"\\nBFS Traversal from node\", start_node, \":\")\n",
    "start = time.time()\n",
    "print(bfs(graph, start_node))\n",
    "end = time.time()\n",
    "print ( \"Time taken\", (end-start) * 1000, \" ms\")\n",
    "\n",
    "# Run DFS (recursive) and print the result\n",
    "print(\"\\nDFS Recursive Traversal from node\", start_node, \":\")\n",
    "start = time.time()\n",
    "print(dfs(graph, start_node))\n",
    "end = time.time()\n",
    "print ( \"Time taken\", (end-start) * 1000, \" ms\")"
   ]
  },
  {
   "cell_type": "code",
   "execution_count": 63,
   "metadata": {},
   "outputs": [],
   "source": [
    "import unittest\n",
    "\n",
    "class TestGraphTraversal(unittest.TestCase):\n",
    "    def setUp(self):\n",
    "        self.graph = Graph()\n",
    "        edges = [\n",
    "            (1, 2), (1, 3), (2, 4), (2, 5), (3, 6), (3, 7)\n",
    "        ]\n",
    "        for node1, node2 in edges:\n",
    "            self.graph.add_edge(node1, node2)\n",
    "\n",
    "    def test_bfs(self):\n",
    "        self.assertEqual(bfs(self.graph, 1), [1, 2, 3, 4, 5, 6, 7])\n",
    "\n",
    "    def test_dfs(self):\n",
    "        self.assertEqual(dfs(self.graph, 1), [1, 2, 4, 5, 3, 6, 7])"
   ]
  },
  {
   "cell_type": "code",
   "execution_count": 64,
   "metadata": {},
   "outputs": [
    {
     "name": "stderr",
     "output_type": "stream",
     "text": [
      "..\n",
      "----------------------------------------------------------------------\n",
      "Ran 2 tests in 0.001s\n",
      "\n",
      "OK\n"
     ]
    },
    {
     "data": {
      "text/plain": [
       "<unittest.main.TestProgram at 0x1a3c3e1df40>"
      ]
     },
     "execution_count": 64,
     "metadata": {},
     "output_type": "execute_result"
    }
   ],
   "source": [
    "unittest.main(argv=['first-arg-is-ignored'], exit=False)"
   ]
  }
 ],
 "metadata": {
  "kernelspec": {
   "display_name": "Python 3",
   "language": "python",
   "name": "python3"
  },
  "language_info": {
   "codemirror_mode": {
    "name": "ipython",
    "version": 3
   },
   "file_extension": ".py",
   "mimetype": "text/x-python",
   "name": "python",
   "nbconvert_exporter": "python",
   "pygments_lexer": "ipython3",
   "version": "3.12.1"
  }
 },
 "nbformat": 4,
 "nbformat_minor": 2
}
